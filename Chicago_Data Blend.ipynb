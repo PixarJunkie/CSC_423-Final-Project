{
 "cells": [
  {
   "cell_type": "markdown",
   "metadata": {},
   "source": [
    "# Chicago Data Blend"
   ]
  },
  {
   "cell_type": "code",
   "execution_count": 6,
   "metadata": {
    "collapsed": true
   },
   "outputs": [],
   "source": [
    "#Import packages\n",
    "import os\n",
    "import pandas as pd \n",
    "import numpy as np\n",
    "import datetime as dt\n",
    "import csv\n",
    "import re"
   ]
  },
  {
   "cell_type": "markdown",
   "metadata": {},
   "source": [
    "# Bike Data"
   ]
  },
  {
   "cell_type": "code",
   "execution_count": 7,
   "metadata": {
    "collapsed": false
   },
   "outputs": [],
   "source": [
    "#Rename Chicago Files\n",
    "# [os.rename(f, f.replace('2', 'Chicago_')) for f in os.listdir('.') if not f.startswith('.')]"
   ]
  },
  {
   "cell_type": "markdown",
   "metadata": {},
   "source": [
    "**Function for getting consistly named columns between files**"
   ]
  },
  {
   "cell_type": "code",
   "execution_count": 8,
   "metadata": {
    "collapsed": true
   },
   "outputs": [],
   "source": [
    "#File reader/Column parser\n",
    "def read_my_csv(file_handle, column_map):\n",
    "    # reverse the column mapping dict to use for synonym lookup\n",
    "    synoms = dict(sum([\n",
    "        [(syn, k) for syn in v] for k, v in column_map.items()], []))\n",
    "\n",
    "    # build csv reader\n",
    "    reader = csv.reader(file_handle)\n",
    "\n",
    "    # get the header, and map columns to desired names\n",
    "    header = next(reader)\n",
    "    header = [synoms.get(c, c) for c in header]\n",
    "\n",
    "    # yield the header\n",
    "    yield header\n",
    "\n",
    "    # yield the remaining rows\n",
    "    for row in reader:\n",
    "        yield row"
   ]
  },
  {
   "cell_type": "code",
   "execution_count": null,
   "metadata": {
    "collapsed": false
   },
   "outputs": [],
   "source": [
    "#Create synonms for read_my_csv\n",
    "column_map = {\n",
    "    'Bike_Num': ('Bike#', 'Bike number', 'Bike #'),\n",
    "    'Subscription': ('Subscriber Type', 'Subscription Type', 'Subscription type', 'Account type', 'Member Type', 'Member type', 'Membership_Type'),\n",
    "    'Total_Duration': ('Duration', 'Duration (ms)', 'Total duration (ms)')\n",
    "#     'Start_Station': ('Start Station', 'Start station', 'Start station number'),\n",
    "#     'End_Station': ('End Station', 'End station', 'End station number')\n",
    "}\n",
    "\n",
    "#Loop for reading files and running parser\n",
    "filenames = [file for file in os.listdir('.') if file.startswith('Chicago_2')]\n",
    "\n",
    "dfs = []\n",
    "\n",
    "for file in filenames:\n",
    "    with open(file, 'rU') as f:\n",
    "        generator = read_my_csv(f, column_map)\n",
    "        columns = next(generator)\n",
    "        dfs.append(pd.DataFrame(generator, columns = columns))\n",
    "chicago_df = pd.concat(dfs, ignore_index = True)\n",
    "\n",
    "#Drop undeed columns\n",
    "to_drop = ['End Station', 'End station', 'End station number', 'Start Station', 'Start station', 'Start station number', 'Total_Duration', 'Bike_Num']\n",
    "\n",
    "for col in list(chicago_df):\n",
    "    if col in to_drop:\n",
    "        chicago_df = chicago_df.drop(col, 1)\n",
    "print(chicago_df.shape)\n",
    "\n",
    "# Create Subscription dummy\n",
    "subsc_dummy = pd.get_dummies(chicago_df['Subscription'])\n",
    "chicago_df = pd.concat([chicago_df, subsc_dummy], axis = 1)\n",
    "chicago_df = chicago_df.drop(['Subscription'], axis = 1)\n",
    "\n",
    "#Convert Start date and End date to pandas.DateTime (**Long Process**)\n",
    "chicago_df['Start date']= pd.to_datetime(chicago_df['Start date'])\n",
    "chicago_df['End date'] = pd.to_datetime(chicago_df['End date'])\n",
    "\n",
    "#Calculate Duration\n",
    "chicago_df['Duration'] = chicago_df['End date'] - chicago_df['Start date']\n",
    "time = pd.DatetimeIndex(chicago_df.Duration)\n",
    "chicago_df.Duration = time.hour * 60 + time.minute\n",
    "\n",
    "#Set index to Start date for grouping\n",
    "chicago_time_sort_df = chicago_df.reset_index().set_index('Start date')\n",
    "chicago_time_sort_df = chicago_time_sort_df.drop(chicago_time_sort_df.columns[0], axis = 1) #Drop index column\n",
    "chicago_time_sort_df['Total_Count'] = float(1) #Add counter for total count\n",
    "\n",
    "#Create stats dict for column stats\n",
    "f = {'Duration': ('mean', 'min', 'max'), 'Casual': 'sum', 'Member': 'sum', 'Registered': 'sum', 'Subscriber': 'sum', 'Total_Count': 'sum'}\n",
    "\n",
    "#Aggregate data by day\n",
    "chicago_by_day = chicago_time_sort_df.groupby(pd.TimeGrouper(\"D\")).agg(f) #Groupby day and apply agg(f)\n",
    "chicago_by_day_df = pd.DataFrame(chicago_by_day #Create aggregated DF\n",
    "chicago_by_day_df = chicago_by_day_df.ix[4:] #Drop first 4 days to match bike data size\n",
    "\n",
    "print(chicago_by_day_df.shape)\n",
    "chicago_by_day_df.head()"
   ]
  },
  {
   "cell_type": "markdown",
   "metadata": {},
   "source": [
    "# Weather Data"
   ]
  },
  {
   "cell_type": "code",
   "execution_count": null,
   "metadata": {
    "collapsed": true
   },
   "outputs": [],
   "source": [
    "#Import weather data\n",
    "weather_df = pd.read_csv('DC_Weather.csv')\n",
    "weather_df = weather_df.fillna('')\n",
    "print(weather_df.shape)\n",
    "weather_df.head()\n",
    "\n",
    "#Drop STATION and STATION_NAME\n",
    "weather_df = weather_df.drop(['STATION', 'STATION_NAME'], axis = 1)\n",
    "\n",
    "#Replace 'T' with 0 fpr precip\n",
    "weather_df.HOURLYPrecip.replace('T', 0, inplace = True)\n",
    "\n",
    "#Convert DATE to DateTime\n",
    "weather_df.DATE= pd.to_datetime(weather_df.DATE)\n",
    "\n",
    "#Index DATE and convert columns to_numeric for aggregation\n",
    "weather_time_sort_df = weather_df.reset_index().set_index('DATE')\n",
    "weather_time_sort_df = weather_time_sort_df.drop(weather_time_sort_df.columns[0], axis = 1)\n",
    "weather_time_sort_df = weather_time_sort_df.convert_objects(convert_numeric = True)\n",
    "weather_time_sort_df = weather_time_sort_df.drop(['REPORTTPYE', 'HOURLYSKYCONDITIONS', 'HOURLYPRSENTWEATHERTYPE'], axis = 1)\n",
    "\n",
    "#Create stats dict for column stats\n",
    "f = {}\n",
    "stats = ['sum', 'mean', 'max', 'min']\n",
    "\n",
    "for col in list(weather_time_sort_df):\n",
    "    f[col] = stats\n",
    "\n",
    "weather_by_day = weather_time_sort_df.groupby(pd.TimeGrouper(\"D\")).agg(f)\n",
    "weather_by_day_df = pd.DataFrame(weather_by_day)\n",
    "\n",
    "print(weather_by_day_df.shape)\n",
    "weather_by_day_df.head()"
   ]
  },
  {
   "cell_type": "markdown",
   "metadata": {},
   "source": [
    "# Final Dataset"
   ]
  },
  {
   "cell_type": "code",
   "execution_count": null,
   "metadata": {
    "collapsed": true
   },
   "outputs": [],
   "source": [
    "#Merge Datasets\n",
    "merged = pd.concat([chicago_by_day_df, weather_by_day_df], join = 'inner', axis = 1)\n",
    "merged.to_csv('Chicago_Blended(new).csv') #Create .csv file\n",
    "\n",
    "print(merged.shape)\n",
    "merged.head()"
   ]
  }
 ],
 "metadata": {
  "anaconda-cloud": {},
  "kernelspec": {
   "display_name": "Python [default]",
   "language": "python",
   "name": "python3"
  },
  "language_info": {
   "codemirror_mode": {
    "name": "ipython",
    "version": 3
   },
   "file_extension": ".py",
   "mimetype": "text/x-python",
   "name": "python",
   "nbconvert_exporter": "python",
   "pygments_lexer": "ipython3",
   "version": "3.5.2"
  }
 },
 "nbformat": 4,
 "nbformat_minor": 1
}
