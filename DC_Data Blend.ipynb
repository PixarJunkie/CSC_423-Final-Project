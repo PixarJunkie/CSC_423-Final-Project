{
 "cells": [
  {
   "cell_type": "markdown",
   "metadata": {},
   "source": [
    "# DC Data Blend"
   ]
  },
  {
   "cell_type": "code",
   "execution_count": 1,
   "metadata": {
    "collapsed": true
   },
   "outputs": [],
   "source": [
    "#Import packages\n",
    "import os\n",
    "import pandas as pd \n",
    "import numpy as np\n",
    "import datetime as dt"
   ]
  },
  {
   "cell_type": "markdown",
   "metadata": {},
   "source": [
    "# Bike Data"
   ]
  },
  {
   "cell_type": "code",
   "execution_count": null,
   "metadata": {
    "collapsed": false
   },
   "outputs": [],
   "source": [
    "#Import bike trip data\n",
    "path = r'path'\n",
    "\n",
    "filenames = [file for file in os.listdir('.') if file.startswith('Divvy')] #Create list of files\n",
    "\n",
    "dfs = [] #Empty DF\n",
    "\n",
    "for file in filenames:\n",
    "    dfs.append(pd.read_csv(file)) #Read files in and add to dfs\n",
    "    \n",
    "DC_df = pd.concat(dfs, ignore_index = True) #concatenate dfs\n",
    "\n",
    "#Drop uneeded columns\n",
    "to_drop = ['bikeid', 'birthday', 'birthyear', 'from_station_id', 'from_station_name', 'gender', 'to_station_id', 'to_station_name', 'trip_id']\n",
    "\n",
    "for col in list(DC_df):\n",
    "    if col in to_drop:\n",
    "        DC_df = DC_df.drop(col, 1)\n",
    "\n",
    "#Add dummy for usertype and drop\n",
    "user_dummy = pd.get_dummies(DC_df['usertype'])\n",
    "DC_df = pd.concat([DC_df, user_dummy], axis = 1)\n",
    "DC_df = DC_df.drop(['usertype'], axis = 1)\n",
    "\n",
    "#Convert starttime to DateTime (Long Process)\n",
    "DC_df.starttime = pd.to_datetime(DC_df.starttime)\n",
    "DC_df.stoptime = pd.to_datetime(DC_df.stoptime)\n",
    "\n",
    "#Calculate Duration\n",
    "DC_df['Duration'] = DC_df.stoptime - DC_df.starttime\n",
    "DC_df = DC_df.drop(['tripduration'], axis = 1)\n",
    "time = pd.DatetimeIndex(DC_df.Duration)\n",
    "DC_df.Duration = time.hour * 60 + time.minute\n",
    "\n",
    "#Set index to starttime\n",
    "DC_time_sort_df = DC_df.reset_index().set_index('starttime')\n",
    "DC_time_sort_df = DC_time_sort_df.drop(DC_time_sort_df.columns[0], axis = 1) #Drop index column\n",
    "DC_time_sort_df['Total_Count'] = float(1) #Add counter for total count\n",
    "\n",
    "#Create stats dict for column stats\n",
    "f = {'Duration': ('mean', 'min', 'max'), 'Customer': 'sum', 'Dependent': 'sum', 'Subscriber': 'sum', 'Total_Count': 'sum'}\n",
    "\n",
    "#Aggregate data by day\n",
    "DC_by_day = DC_time_sort_df.groupby(pd.TimeGrouper(\"D\")).agg(f) #Groupby day and apply agg(f)\n",
    "DC_by_day_df = pd.DataFrame(DC_by_day) #Create aggregated DF\n",
    "DC_by_day_df = DC_by_day_df.ix[4:] #Drop first 4 days (don't match with weather)\n",
    "\n",
    "print(DC_by_day_df.shape)\n",
    "DC_by_day_df.head()"
   ]
  },
  {
   "cell_type": "markdown",
   "metadata": {},
   "source": [
    "# Weather Data"
   ]
  },
  {
   "cell_type": "code",
   "execution_count": null,
   "metadata": {
    "collapsed": true
   },
   "outputs": [],
   "source": [
    "#Import weather data\n",
    "weather_df = pd.read_csv('DC_Weather.csv')\n",
    "weather_df = weather_df.fillna('')\n",
    "print(weather_df.shape)\n",
    "weather_df.head()\n",
    "\n",
    "#Drop STATION and STATION_NAME\n",
    "weather_df = weather_df.drop(['STATION', 'STATION_NAME'], axis = 1)\n",
    "\n",
    "#Replace 'T' with 0 fpr precip\n",
    "weather_df.HOURLYPrecip.replace('T', 0, inplace = True)\n",
    "\n",
    "#Convert DATE to DateTime\n",
    "weather_df.DATE= pd.to_datetime(weather_df.DATE)\n",
    "\n",
    "#Index DATE and convert columns to_numeric for aggregation\n",
    "weather_time_sort_df = weather_df.reset_index().set_index('DATE')\n",
    "weather_time_sort_df = weather_time_sort_df.drop(weather_time_sort_df.columns[0], axis = 1)\n",
    "weather_time_sort_df = weather_time_sort_df.convert_objects(convert_numeric = True)\n",
    "weather_time_sort_df = weather_time_sort_df.drop(['REPORTTPYE', 'HOURLYSKYCONDITIONS', 'HOURLYPRSENTWEATHERTYPE'], axis = 1)\n",
    "\n",
    "#Create stats dict for column stats\n",
    "f = {}\n",
    "stats = ['sum', 'mean', 'max', 'min']\n",
    "\n",
    "for col in list(weather_time_sort_df):\n",
    "    f[col] = stats\n",
    "\n",
    "weather_by_day = weather_time_sort_df.groupby(pd.TimeGrouper(\"D\")).agg(f)\n",
    "weather_by_day_df = pd.DataFrame(weather_by_day)\n",
    "\n",
    "print(weather_by_day_df.shape)\n",
    "weather_by_day_df.head()"
   ]
  },
  {
   "cell_type": "markdown",
   "metadata": {},
   "source": [
    "# Final Dataset"
   ]
  },
  {
   "cell_type": "code",
   "execution_count": null,
   "metadata": {
    "collapsed": true
   },
   "outputs": [],
   "source": [
    "#Merge Datasets\n",
    "merged = pd.concat([DC_by_day_df, weather_by_day_df], join = 'inner', axis = 1)\n",
    "merged.to_csv('DC_Blended(new).csv') #Create .csv file\n",
    "\n",
    "print(merged.shape)\n",
    "merged.head()"
   ]
  }
 ],
 "metadata": {
  "anaconda-cloud": {},
  "kernelspec": {
   "display_name": "Python [conda root]",
   "language": "python",
   "name": "conda-root-py"
  },
  "language_info": {
   "codemirror_mode": {
    "name": "ipython",
    "version": 3
   },
   "file_extension": ".py",
   "mimetype": "text/x-python",
   "name": "python",
   "nbconvert_exporter": "python",
   "pygments_lexer": "ipython3",
   "version": "3.5.2"
  }
 },
 "nbformat": 4,
 "nbformat_minor": 1
}
